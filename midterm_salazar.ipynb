"""
Course: Python for Scientists (Part-I)
"""
#%%
def author():
    return 'Joseph Salazar'
#%%
import random
import copy
# %%
def DrawBoard(Board):
    #Row one
    print(Board[0][0], '|',  Board[0][1], '|', Board[0][2])
    #Row two
    print('- + - + -')
    print(Board[1][0], '|',  Board[1][1], '|', Board[1][2])
    #Row three
    print('- + - + -')
    print(Board[2][0], '|',  Board[2][1], '|', Board[2][2])
    pass
#%% 
def IsSpaceFree(Board, i ,j):
    if(i < 0 or i > 2 or j < 0 or j >2):
        print("Invalid input")
        return False
    if(Board[i][j] == ' '):
        return True
    else:
        return False
    pass
#%%
def GetNumberOfChessPieces(Board):
    counter = 0
    for i in range(len(Board)):
        for j in range(len(Board)):
            if Board[i][j] != ' ':
                counter += 1
    return counter
    pass
#%%
def IsBoardFull(Board):
    if GetNumberOfChessPieces(Board) == 9:
        return True
    else:
        return False
    pass
#%%
def IsBoardEmpty(Board):
    if GetNumberOfChessPieces(Board) == 0:
        return True
    else:
        return False
    pass
#%%
def UpdateBoard(Board, Tag, Choice):
    Board[Choice[0]][Choice[1]] = Tag 
    pass
#%%
def HumanPlayer(Tag, Board):
    loopvariable = 0
    while loopvariable < 1:
        user_input = input("Please enter a row and column from 0-2: ")
        selection = user_input.split()

        try: 
            row = int(selection[0])
            col = int(selection[1])
            if IsSpaceFree(Board, row, col) != True:
                print("Spot taken, please try again.")
                print() 
                print()
            else:
                choice = (row, col)
                loopvariable +=  1
                return choice
        except:
            print("Please enter a valid integer")
            print()
            print()

    pass
#%%
def ComputerPlayer(Tag, Board):
    #base case
    if IsBoardEmpty(Board) == True:
        choice = (0, 2)
        return choice
    #Assign opponents tag
    opp_sym = 'X'
    if Tag == 'X':
        opp_sym = 'O'
    column = [[0,0,0], [0,0,0], [0,0,0]] # zero is empty, one is comp, two is human
    diags = [[0,0,0], [0,0,0]]
    #Check rows
    for i in range(len(Board)):
        if Board[i].count(Tag) == 2 and ' ' in Board[i]:
            print('Winning Position via Row')
            return (i, Board[i].index(' '))
        if Board[i].count(opp_sym) == 2 and ' ' in Board[i]:
            print('Blocking Human via Row')
            return (i, Board[i].index(' '))
        #Build columns and diags
        for k in range(len(Board)):
            if Board[k][i] == Tag:
                column[i][k] = 1
            if Board[k][i] == opp_sym:
                column[i][k] = 2
            if i == k:
                diags[0][i] = Board[i][k]   
    diags[1][0] = Board[0][2]
    diags[1][1] = Board[1][1]
    diags[1][2] = Board[2][0]
    #Check columns
    idx = 0
    for cols in column:
        if cols.count(1) == 2 and int('0') in cols:
            print('Winning Position via Column')
            return (cols.index(0), idx)
        if cols.count(2) == 2 and int('0') in cols:
            print('Blocking Human via Column')
            return (cols.index(0), idx)
        idx += 1
    #Check diagnals
    idx2 = 0
    for diag in diags:
        if diag.count(Tag) == 2 and ' ' in diag:
            print('Winning Position via Diagnal')
            if diag.index(' ') == 1 or idx2 == 0:
                return (diag.index(' '), diag.index(' '))
            elif diag.index(' ') == 0:
                return (0 , 2)
            else:
                return (2, 0)
        if diag.count(opp_sym) == 2 and ' ' in diag:
            print('Blocking Human via Diagnal')
            if diag.index(' ') == 1 or idx2 == 0:
                return (diag.index(' '), diag.index(' '))
            elif diag.index(' ') == 0:
                return (0 , 2)
            else:
                return (2, 0)
        idx2 += 1
    #If nothing returned so far, choose random place
    loopvar = False
    while loopvar == False:
        r = random.randint(0,2)
        c = random.randint(0,2)
        if IsSpaceFree(Board, r , c) == True:
            choice = (r, c)
            loopvar = True
            print('Random Choice')
            return choice                 
    pass
#%%
def Judge(Board):
    count_x = 0
    count_y = 0
    #Check rows
    for i in range(len(Board)):
        if Board[i] == ['X','X','X']:
            return 1
        if Board[i] == ['O','O','O']:
            return 2
    #Check columns
    for i in range(len(Board)):
        for j in range(len(Board)):
            if Board[j][i] == 'X':
                count_x +=1
            if Board[j][i] == 'O':
                count_y +=1
        if count_x == 3:
            return 1
        if count_y == 3:
            return 2    
        count_x = 0
        count_y = 0
    #Check diagnals
    for i in range(len(Board)):
        if Board[i][i] == 'X':
            count_x += 1
        if Board[i][i] == 'O':
            count_y += 1
    if count_x == 3:
        return 1
    if count_y == 3:
        return 2
    count_x = 0
    count_y = 0
    if Board[0][2] == 'X' and Board[1][1] == 'X' and Board[2][0] == 'X':
        return 1
    if Board[0][2] == 'O' and Board[1][1] == 'O' and Board[2][0] == 'O':  
        return 2 
    #Check tie
    if IsBoardFull(Board) == True:
        return 3
    else:
        return 0
    pass
#%%
def ShowOutcome(Outcome, NameX, NameO):
    if Outcome == 0:
        print("The game is still in progress")
        print()
    elif Outcome == 1:
        print(NameX, 'wins')
        print()
    elif Outcome == 2:
        print(NameO, 'wins')
        print()
    else:
        print('The game is a tie')
        print()
    
    pass
#%% read but do not modify this function
def Which_Player_goes_first():
    '''
    Parameter: None
    Return: two function objects: PlayerX, PlayerO
    Description:
        Randomly choose which player goes first.
        PlayerX/PlayerO is ComputerPlayer or HumanPlayer
    '''
    if random.randint(0, 1) == 0:
        print("Computer player goes first")
        PlayerX = ComputerPlayer
        PlayerO = HumanPlayer
    else:
        print("Human player goes first")
        PlayerO = ComputerPlayer
        PlayerX = HumanPlayer
    return PlayerX, PlayerO
#%% the game
def TicTacToeGame():
    #---------------------------------------------------    
    print("Welcome to Tic Tac Toe Game")
    Board = [[' ', ' ', ' '],
             [' ', ' ', ' '],
             [' ', ' ', ' ']]
    DrawBoard(Board)
    # determine the order
    PlayerX, PlayerO = Which_Player_goes_first()
    # get the name of each function object
    NameX = PlayerX.__name__
    NameO = PlayerO.__name__
    #---------------------------------------------------    
    # suggested steps in a while loop:
    # (1)  get a choice from PlayerX, e.g. ChoiceX=PlayerX('X', Board)
    # (2)  update the Board
    # (3)  draw the Board
    # (4)  get the outcome from Judge
    # (5)  show the outcome
    # (6)  if the game is completed (win or tie), then break the loop
    # (7)  get a choice from PlayerO
    # (8)  update the Board
    # (9)  draw the Board
    # (10) get the outcome from Judge
    # (11) show the outcome
    # (12) if the game is completed (win or tie), then break the loop
    #---------------------------------------------------
    # your code starts from here
    x = False
    while x == False:
        UpdateBoard(Board, 'X', PlayerX('X', Board))
        print(NameX, end='')
        print('(X) has made the choice')
        DrawBoard(Board)
        current_state = Judge(Board)
        ShowOutcome(current_state, NameX, NameO)
        if current_state == 1 or current_state == 2 or current_state == 3:
            x = True
            break
        UpdateBoard(Board, 'O', PlayerO('O', Board) )
        print(NameO, end='')
        print('(O) has made the choice')
        DrawBoard(Board)
        current_state = Judge(Board)
        ShowOutcome(current_state, NameX, NameO)
        if current_state == 1 or current_state == 2 or current_state == 3:
            x = True
            break
    pass
#%% play the game many rounds until the user wants to quit
# read but do not modify this function
def PlayGame():
    while True:
        print() #add for visual
        print() #add for visual
        TicTacToeGame()
        print('Do you want to play again? (yes or no)')
        if not input().lower().startswith('y'):
            break
    print("GameOver")
#%% do not modify anything below
if __name__ == '__main__':
    PlayGame()
